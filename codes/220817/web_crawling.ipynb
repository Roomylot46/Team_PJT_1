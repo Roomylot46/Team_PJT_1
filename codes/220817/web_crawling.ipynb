{
 "cells": [
  {
   "cell_type": "code",
   "execution_count": 1,
   "id": "a9588b1c",
   "metadata": {},
   "outputs": [],
   "source": [
    "# !pip install selenium\n",
    "# !pip install pandas\n",
    "# !pip install beautifulsoup4"
   ]
  },
  {
   "cell_type": "code",
   "execution_count": 61,
   "id": "213af575",
   "metadata": {},
   "outputs": [],
   "source": [
    "#필요 패키지 임포트\n",
    "import selenium\n",
    "from selenium import webdriver\n",
    "import pandas as pd\n",
    "from bs4 import BeautifulSoup\n",
    "import numpy as np\n",
    "from selenium.webdriver.common.by import By\n",
    "import time\n",
    "from tqdm import tqdm_notebook"
   ]
  },
  {
   "cell_type": "code",
   "execution_count": 50,
   "id": "62fc3f63",
   "metadata": {},
   "outputs": [],
   "source": [
    "url='http://taas.koroad.or.kr/sta/acs/exs/typical.do?menuId=WEB_KMP_OVT_UAS_PDS#'"
   ]
  },
  {
   "cell_type": "code",
   "execution_count": 51,
   "id": "57c166db",
   "metadata": {},
   "outputs": [
    {
     "name": "stderr",
     "output_type": "stream",
     "text": [
      "C:\\Users\\dhsmf\\AppData\\Local\\Temp/ipykernel_37160/3949122067.py:1: DeprecationWarning: executable_path has been deprecated, please pass in a Service object\n",
      "  driver = webdriver.Chrome('./accident/chromedriver')\n"
     ]
    }
   ],
   "source": [
    "driver = webdriver.Chrome('./accident/chromedriver')\n",
    "driver.get(url)"
   ]
  },
  {
   "cell_type": "code",
   "execution_count": 52,
   "id": "732ba513",
   "metadata": {},
   "outputs": [],
   "source": [
    "# 운전자 관련 index\n",
    "xpath = '//*[@id=\"ddMenuTree1\"]/div[11]/a[1]'\n",
    "for_cdriver_btn = driver.find_element(By.XPATH,xpath)\n",
    "for_cdriver_btn.click()"
   ]
  },
  {
   "cell_type": "code",
   "execution_count": 53,
   "id": "12dc6b4c",
   "metadata": {},
   "outputs": [],
   "source": [
    "# 하위 index 중 연령별 월별 index\n",
    "old_mth_xpath = '//*[@id=\"ddMenuTree87\"]/div[1]'\n",
    "old_mth_btn = driver.find_element(By.XPATH,old_mth_xpath)\n",
    "old_mth_btn.click()"
   ]
  },
  {
   "cell_type": "code",
   "execution_count": 54,
   "id": "b79296af",
   "metadata": {},
   "outputs": [],
   "source": [
    "# 사고 유형별_월별 index\n",
    "acc_cate_mth_xpath = '//*[@id=\"ddMenuTree43\"]/div[2]'\n",
    "acc_cate_mth_btn = driver.find_element(By.XPATH,acc_cate_mth_xpath)"
   ]
  },
  {
   "cell_type": "code",
   "execution_count": 55,
   "id": "e4147a46",
   "metadata": {},
   "outputs": [],
   "source": [
    "# 시작 년도 xpath를 이용해 연도 리스트 만들기\n",
    "start_year_xpath = '//*[@id=\"startYear\"]'\n",
    "start_year_raw = driver.find_element(By.XPATH,start_year_xpath)\n",
    "start_year_raw\n",
    "year_list = start_year_raw.find_elements(By.TAG_NAME,'option')"
   ]
  },
  {
   "cell_type": "code",
   "execution_count": 7,
   "id": "162d3705",
   "metadata": {},
   "outputs": [
    {
     "data": {
      "text/plain": [
       "['2005',\n",
       " '2006',\n",
       " '2007',\n",
       " '2008',\n",
       " '2009',\n",
       " '2010',\n",
       " '2011',\n",
       " '2012',\n",
       " '2013',\n",
       " '2014',\n",
       " '2015',\n",
       " '2016',\n",
       " '2017',\n",
       " '2018',\n",
       " '2019',\n",
       " '2020',\n",
       " '2021']"
      ]
     },
     "execution_count": 7,
     "metadata": {},
     "output_type": "execute_result"
    }
   ],
   "source": [
    "years = [option.get_attribute('value') for option in year_list]\n",
    "years"
   ]
  },
  {
   "cell_type": "code",
   "execution_count": 56,
   "id": "9c983873",
   "metadata": {},
   "outputs": [],
   "source": [
    "# 시작 년도 선택\n",
    "year_select = driver.find_element(By.ID,'startYear')\n",
    "year_select.send_keys(years[12]) # 2017"
   ]
  },
  {
   "cell_type": "code",
   "execution_count": 11,
   "id": "e480e7db",
   "metadata": {},
   "outputs": [],
   "source": [
    "# 끝 년도 선택\n",
    "# year_select = driver.find_element(By.ID,'endYear')\n",
    "# year_select.send_keys(years[12])"
   ]
  },
  {
   "cell_type": "code",
   "execution_count": 57,
   "id": "a6e452b7",
   "metadata": {},
   "outputs": [],
   "source": [
    "# 조건 설정 버튼\n",
    "condition_select_xpath = '//*[@id=\"searchDiv\"]/ul[2]/li[1]/input'\n",
    "condition_select_btn = driver.find_element(By.XPATH,condition_select_xpath)\n",
    "condition_select_btn.click()"
   ]
  },
  {
   "cell_type": "code",
   "execution_count": 58,
   "id": "3060e3b5",
   "metadata": {},
   "outputs": [],
   "source": [
    "# 가해운전자 차량용도 버튼\n",
    "car_type_xpath = '//*[@id=\"1078\"]'\n",
    "car_type_btn = driver.find_element(By.XPATH,car_type_xpath)\n",
    "car_type_btn.click()"
   ]
  },
  {
   "cell_type": "code",
   "execution_count": 59,
   "id": "bb05afa4",
   "metadata": {},
   "outputs": [],
   "source": [
    "# PM\n",
    "pm_xpath = '//*[@id=\"dTermsTree04_1078_07\"]'\n",
    "pm_btn = driver.find_element(By.XPATH,pm_xpath)\n",
    "pm_btn.click()"
   ]
  },
  {
   "cell_type": "code",
   "execution_count": 65,
   "id": "84eefb0c",
   "metadata": {
    "scrolled": true
   },
   "outputs": [
    {
     "ename": "NoSuchElementException",
     "evalue": "Message: no such element: Unable to locate element: {\"method\":\"xpath\",\"selector\":\"//*[@id=\"searchDiv\"]/ul[2]/li[2]/input\"}\n  (Session info: chrome=104.0.5112.81)\nStacktrace:\nBacktrace:\n\tOrdinal0 [0x01005FD3+2187219]\n\tOrdinal0 [0x00F9E6D1+1763025]\n\tOrdinal0 [0x00EB3E78+802424]\n\tOrdinal0 [0x00EE1C10+990224]\n\tOrdinal0 [0x00EE1EAB+990891]\n\tOrdinal0 [0x00F0EC92+1174674]\n\tOrdinal0 [0x00EFCBD4+1100756]\n\tOrdinal0 [0x00F0CFC2+1167298]\n\tOrdinal0 [0x00EFC9A6+1100198]\n\tOrdinal0 [0x00ED6F80+946048]\n\tOrdinal0 [0x00ED7E76+949878]\n\tGetHandleVerifier [0x012A90C2+2721218]\n\tGetHandleVerifier [0x0129AAF0+2662384]\n\tGetHandleVerifier [0x0109137A+526458]\n\tGetHandleVerifier [0x01090416+522518]\n\tOrdinal0 [0x00FA4EAB+1789611]\n\tOrdinal0 [0x00FA97A8+1808296]\n\tOrdinal0 [0x00FA9895+1808533]\n\tOrdinal0 [0x00FB26C1+1844929]\n\tBaseThreadInitThunk [0x76B0FA29+25]\n\tRtlGetAppContainerNamedObjectPath [0x777F7A9E+286]\n\tRtlGetAppContainerNamedObjectPath [0x777F7A6E+238]\n",
     "output_type": "error",
     "traceback": [
      "\u001b[1;31m---------------------------------------------------------------------------\u001b[0m",
      "\u001b[1;31mNoSuchElementException\u001b[0m                    Traceback (most recent call last)",
      "\u001b[1;32m~\\AppData\\Local\\Temp/ipykernel_37160/1295005720.py\u001b[0m in \u001b[0;36m<module>\u001b[1;34m\u001b[0m\n\u001b[0;32m      1\u001b[0m \u001b[1;31m# 조회 버튼\u001b[0m\u001b[1;33m\u001b[0m\u001b[1;33m\u001b[0m\u001b[0m\n\u001b[0;32m      2\u001b[0m \u001b[0msearch_xpath\u001b[0m \u001b[1;33m=\u001b[0m \u001b[1;34m'//*[@id=\"searchDiv\"]/ul[2]/li[2]/input'\u001b[0m\u001b[1;33m\u001b[0m\u001b[1;33m\u001b[0m\u001b[0m\n\u001b[1;32m----> 3\u001b[1;33m \u001b[0msearch_btn\u001b[0m \u001b[1;33m=\u001b[0m \u001b[0mdriver\u001b[0m\u001b[1;33m.\u001b[0m\u001b[0mfind_element\u001b[0m\u001b[1;33m(\u001b[0m\u001b[0mBy\u001b[0m\u001b[1;33m.\u001b[0m\u001b[0mXPATH\u001b[0m\u001b[1;33m,\u001b[0m\u001b[0msearch_xpath\u001b[0m\u001b[1;33m)\u001b[0m\u001b[1;33m\u001b[0m\u001b[1;33m\u001b[0m\u001b[0m\n\u001b[0m\u001b[0;32m      4\u001b[0m \u001b[0msearch_btn\u001b[0m\u001b[1;33m.\u001b[0m\u001b[0mclick\u001b[0m\u001b[1;33m(\u001b[0m\u001b[1;33m)\u001b[0m\u001b[1;33m\u001b[0m\u001b[1;33m\u001b[0m\u001b[0m\n",
      "\u001b[1;32mC:\\ProgramData\\Anaconda3\\lib\\site-packages\\selenium\\webdriver\\remote\\webdriver.py\u001b[0m in \u001b[0;36mfind_element\u001b[1;34m(self, by, value)\u001b[0m\n\u001b[0;32m    855\u001b[0m             \u001b[0mvalue\u001b[0m \u001b[1;33m=\u001b[0m \u001b[1;34m'[name=\"%s\"]'\u001b[0m \u001b[1;33m%\u001b[0m \u001b[0mvalue\u001b[0m\u001b[1;33m\u001b[0m\u001b[1;33m\u001b[0m\u001b[0m\n\u001b[0;32m    856\u001b[0m \u001b[1;33m\u001b[0m\u001b[0m\n\u001b[1;32m--> 857\u001b[1;33m         return self.execute(Command.FIND_ELEMENT, {\n\u001b[0m\u001b[0;32m    858\u001b[0m             \u001b[1;34m'using'\u001b[0m\u001b[1;33m:\u001b[0m \u001b[0mby\u001b[0m\u001b[1;33m,\u001b[0m\u001b[1;33m\u001b[0m\u001b[1;33m\u001b[0m\u001b[0m\n\u001b[0;32m    859\u001b[0m             'value': value})['value']\n",
      "\u001b[1;32mC:\\ProgramData\\Anaconda3\\lib\\site-packages\\selenium\\webdriver\\remote\\webdriver.py\u001b[0m in \u001b[0;36mexecute\u001b[1;34m(self, driver_command, params)\u001b[0m\n\u001b[0;32m    433\u001b[0m         \u001b[0mresponse\u001b[0m \u001b[1;33m=\u001b[0m \u001b[0mself\u001b[0m\u001b[1;33m.\u001b[0m\u001b[0mcommand_executor\u001b[0m\u001b[1;33m.\u001b[0m\u001b[0mexecute\u001b[0m\u001b[1;33m(\u001b[0m\u001b[0mdriver_command\u001b[0m\u001b[1;33m,\u001b[0m \u001b[0mparams\u001b[0m\u001b[1;33m)\u001b[0m\u001b[1;33m\u001b[0m\u001b[1;33m\u001b[0m\u001b[0m\n\u001b[0;32m    434\u001b[0m         \u001b[1;32mif\u001b[0m \u001b[0mresponse\u001b[0m\u001b[1;33m:\u001b[0m\u001b[1;33m\u001b[0m\u001b[1;33m\u001b[0m\u001b[0m\n\u001b[1;32m--> 435\u001b[1;33m             \u001b[0mself\u001b[0m\u001b[1;33m.\u001b[0m\u001b[0merror_handler\u001b[0m\u001b[1;33m.\u001b[0m\u001b[0mcheck_response\u001b[0m\u001b[1;33m(\u001b[0m\u001b[0mresponse\u001b[0m\u001b[1;33m)\u001b[0m\u001b[1;33m\u001b[0m\u001b[1;33m\u001b[0m\u001b[0m\n\u001b[0m\u001b[0;32m    436\u001b[0m             response['value'] = self._unwrap_value(\n\u001b[0;32m    437\u001b[0m                 response.get('value', None))\n",
      "\u001b[1;32mC:\\ProgramData\\Anaconda3\\lib\\site-packages\\selenium\\webdriver\\remote\\errorhandler.py\u001b[0m in \u001b[0;36mcheck_response\u001b[1;34m(self, response)\u001b[0m\n\u001b[0;32m    245\u001b[0m                 \u001b[0malert_text\u001b[0m \u001b[1;33m=\u001b[0m \u001b[0mvalue\u001b[0m\u001b[1;33m[\u001b[0m\u001b[1;34m'alert'\u001b[0m\u001b[1;33m]\u001b[0m\u001b[1;33m.\u001b[0m\u001b[0mget\u001b[0m\u001b[1;33m(\u001b[0m\u001b[1;34m'text'\u001b[0m\u001b[1;33m)\u001b[0m\u001b[1;33m\u001b[0m\u001b[1;33m\u001b[0m\u001b[0m\n\u001b[0;32m    246\u001b[0m             \u001b[1;32mraise\u001b[0m \u001b[0mexception_class\u001b[0m\u001b[1;33m(\u001b[0m\u001b[0mmessage\u001b[0m\u001b[1;33m,\u001b[0m \u001b[0mscreen\u001b[0m\u001b[1;33m,\u001b[0m \u001b[0mstacktrace\u001b[0m\u001b[1;33m,\u001b[0m \u001b[0malert_text\u001b[0m\u001b[1;33m)\u001b[0m  \u001b[1;31m# type: ignore[call-arg]  # mypy is not smart enough here\u001b[0m\u001b[1;33m\u001b[0m\u001b[1;33m\u001b[0m\u001b[0m\n\u001b[1;32m--> 247\u001b[1;33m         \u001b[1;32mraise\u001b[0m \u001b[0mexception_class\u001b[0m\u001b[1;33m(\u001b[0m\u001b[0mmessage\u001b[0m\u001b[1;33m,\u001b[0m \u001b[0mscreen\u001b[0m\u001b[1;33m,\u001b[0m \u001b[0mstacktrace\u001b[0m\u001b[1;33m)\u001b[0m\u001b[1;33m\u001b[0m\u001b[1;33m\u001b[0m\u001b[0m\n\u001b[0m\u001b[0;32m    248\u001b[0m \u001b[1;33m\u001b[0m\u001b[0m\n\u001b[0;32m    249\u001b[0m     \u001b[1;32mdef\u001b[0m \u001b[0m_value_or_default\u001b[0m\u001b[1;33m(\u001b[0m\u001b[0mself\u001b[0m\u001b[1;33m,\u001b[0m \u001b[0mobj\u001b[0m\u001b[1;33m:\u001b[0m \u001b[0mMapping\u001b[0m\u001b[1;33m[\u001b[0m\u001b[0m_KT\u001b[0m\u001b[1;33m,\u001b[0m \u001b[0m_VT\u001b[0m\u001b[1;33m]\u001b[0m\u001b[1;33m,\u001b[0m \u001b[0mkey\u001b[0m\u001b[1;33m:\u001b[0m \u001b[0m_KT\u001b[0m\u001b[1;33m,\u001b[0m \u001b[0mdefault\u001b[0m\u001b[1;33m:\u001b[0m \u001b[0m_VT\u001b[0m\u001b[1;33m)\u001b[0m \u001b[1;33m->\u001b[0m \u001b[0m_VT\u001b[0m\u001b[1;33m:\u001b[0m\u001b[1;33m\u001b[0m\u001b[1;33m\u001b[0m\u001b[0m\n",
      "\u001b[1;31mNoSuchElementException\u001b[0m: Message: no such element: Unable to locate element: {\"method\":\"xpath\",\"selector\":\"//*[@id=\"searchDiv\"]/ul[2]/li[2]/input\"}\n  (Session info: chrome=104.0.5112.81)\nStacktrace:\nBacktrace:\n\tOrdinal0 [0x01005FD3+2187219]\n\tOrdinal0 [0x00F9E6D1+1763025]\n\tOrdinal0 [0x00EB3E78+802424]\n\tOrdinal0 [0x00EE1C10+990224]\n\tOrdinal0 [0x00EE1EAB+990891]\n\tOrdinal0 [0x00F0EC92+1174674]\n\tOrdinal0 [0x00EFCBD4+1100756]\n\tOrdinal0 [0x00F0CFC2+1167298]\n\tOrdinal0 [0x00EFC9A6+1100198]\n\tOrdinal0 [0x00ED6F80+946048]\n\tOrdinal0 [0x00ED7E76+949878]\n\tGetHandleVerifier [0x012A90C2+2721218]\n\tGetHandleVerifier [0x0129AAF0+2662384]\n\tGetHandleVerifier [0x0109137A+526458]\n\tGetHandleVerifier [0x01090416+522518]\n\tOrdinal0 [0x00FA4EAB+1789611]\n\tOrdinal0 [0x00FA97A8+1808296]\n\tOrdinal0 [0x00FA9895+1808533]\n\tOrdinal0 [0x00FB26C1+1844929]\n\tBaseThreadInitThunk [0x76B0FA29+25]\n\tRtlGetAppContainerNamedObjectPath [0x777F7A9E+286]\n\tRtlGetAppContainerNamedObjectPath [0x777F7A6E+238]\n"
     ]
    }
   ],
   "source": [
    "# 조회 버튼\n",
    "search_xpath = '//*[@id=\"searchDiv\"]/ul[2]/li[2]/input'\n",
    "search_btn = driver.find_element(By.XPATH,search_xpath)\n",
    "search_btn.click()"
   ]
  },
  {
   "cell_type": "code",
   "execution_count": 63,
   "id": "1d7b0ea4",
   "metadata": {},
   "outputs": [],
   "source": [
    "time.sleep(7)\n",
    "driver.switch_to.frame(driver.find_element(By.ID, 'eosFrame'))# 조회 창으로 프레임 이동"
   ]
  },
  {
   "cell_type": "code",
   "execution_count": 64,
   "id": "48efe6d4",
   "metadata": {},
   "outputs": [],
   "source": [
    "mth_chk_box_xpath = '//*[@id=\"dim_1032_1\"]/input'\n",
    "mth_chk_box_btn = driver.find_element(By.XPATH,mth_chk_box_xpath)\n",
    "mth_chk_box_btn.click()"
   ]
  },
  {
   "cell_type": "code",
   "execution_count": 87,
   "id": "2a0ce1c6",
   "metadata": {},
   "outputs": [],
   "source": [
    "tool_xpath = '//*[@id=\"allToolbar\"]'\n",
    "tool_btn = driver.find_element(By.XPATH,tool_xpath)\n",
    "tool_btn.click()"
   ]
  },
  {
   "cell_type": "code",
   "execution_count": 88,
   "id": "3edc9f97",
   "metadata": {},
   "outputs": [],
   "source": [
    "tool_menu_xpath = '//*[@id=\"appendLayer\"]/div[11]'\n",
    "tool_menu_btn = driver.find_element(By.XPATH,tool_xpath)\n",
    "tool_menu_btn.click()\n",
    "# tool_menu_raw = driver.find_element(By.XPATH,tool_menu_xpath)\n",
    "# tool_menu_raw.text\n",
    "# list1 = tool_menu_raw.text.split('\\n▶')\n",
    "# list1[7].split('\\n')[1]\n"
   ]
  },
  {
   "cell_type": "code",
   "execution_count": 71,
   "id": "094ffbef",
   "metadata": {},
   "outputs": [],
   "source": [
    "from selenium.webdriver.common.action_chains import ActionChains"
   ]
  },
  {
   "cell_type": "code",
   "execution_count": 89,
   "id": "41395d35",
   "metadata": {},
   "outputs": [
    {
     "data": {
      "text/plain": [
       "<selenium.webdriver.common.action_chains.ActionChains at 0x1a9167eba60>"
      ]
     },
     "execution_count": 89,
     "metadata": {},
     "output_type": "execute_result"
    }
   ],
   "source": [
    "axis_xpath = '//*[@id=\"appendLayer\"]/div[11]/div[17]' # 축 전환\n",
    "axis_btn = driver.find_element(By.XPATH,axis_xpath)\n",
    "ActionChains(driver).move_to_element(axis_btn)"
   ]
  },
  {
   "cell_type": "code",
   "execution_count": 90,
   "id": "17921caa",
   "metadata": {},
   "outputs": [
    {
     "ename": "NoSuchElementException",
     "evalue": "Message: no such element: Unable to locate element: {\"method\":\"xpath\",\"selector\":\"//*[@id=\"appendLayer\"]/div[13]\"}\n  (Session info: chrome=104.0.5112.81)\nStacktrace:\nBacktrace:\n\tOrdinal0 [0x01005FD3+2187219]\n\tOrdinal0 [0x00F9E6D1+1763025]\n\tOrdinal0 [0x00EB3E78+802424]\n\tOrdinal0 [0x00EE1C10+990224]\n\tOrdinal0 [0x00EE1EAB+990891]\n\tOrdinal0 [0x00F0EC92+1174674]\n\tOrdinal0 [0x00EFCBD4+1100756]\n\tOrdinal0 [0x00F0CFC2+1167298]\n\tOrdinal0 [0x00EFC9A6+1100198]\n\tOrdinal0 [0x00ED6F80+946048]\n\tOrdinal0 [0x00ED7E76+949878]\n\tGetHandleVerifier [0x012A90C2+2721218]\n\tGetHandleVerifier [0x0129AAF0+2662384]\n\tGetHandleVerifier [0x0109137A+526458]\n\tGetHandleVerifier [0x01090416+522518]\n\tOrdinal0 [0x00FA4EAB+1789611]\n\tOrdinal0 [0x00FA97A8+1808296]\n\tOrdinal0 [0x00FA9895+1808533]\n\tOrdinal0 [0x00FB26C1+1844929]\n\tBaseThreadInitThunk [0x76B0FA29+25]\n\tRtlGetAppContainerNamedObjectPath [0x777F7A9E+286]\n\tRtlGetAppContainerNamedObjectPath [0x777F7A6E+238]\n",
     "output_type": "error",
     "traceback": [
      "\u001b[1;31m---------------------------------------------------------------------------\u001b[0m",
      "\u001b[1;31mNoSuchElementException\u001b[0m                    Traceback (most recent call last)",
      "\u001b[1;32m~\\AppData\\Local\\Temp/ipykernel_37160/1465161454.py\u001b[0m in \u001b[0;36m<module>\u001b[1;34m\u001b[0m\n\u001b[0;32m      1\u001b[0m \u001b[0maxis_degree_xpath\u001b[0m \u001b[1;33m=\u001b[0m \u001b[1;34m'//*[@id=\"appendLayer\"]/div[13]'\u001b[0m \u001b[1;31m# 수치축\u001b[0m\u001b[1;33m\u001b[0m\u001b[1;33m\u001b[0m\u001b[0m\n\u001b[1;32m----> 2\u001b[1;33m \u001b[0maxis_degree_btn\u001b[0m \u001b[1;33m=\u001b[0m \u001b[0mdriver\u001b[0m\u001b[1;33m.\u001b[0m\u001b[0mfind_element\u001b[0m\u001b[1;33m(\u001b[0m\u001b[0mBy\u001b[0m\u001b[1;33m.\u001b[0m\u001b[0mXPATH\u001b[0m\u001b[1;33m,\u001b[0m\u001b[0maxis_degree_xpath\u001b[0m\u001b[1;33m)\u001b[0m\u001b[1;33m\u001b[0m\u001b[1;33m\u001b[0m\u001b[0m\n\u001b[0m\u001b[0;32m      3\u001b[0m \u001b[0maxis_degree_btn\u001b[0m\u001b[1;33m.\u001b[0m\u001b[0mclick\u001b[0m\u001b[1;33m(\u001b[0m\u001b[1;33m)\u001b[0m\u001b[1;33m\u001b[0m\u001b[1;33m\u001b[0m\u001b[0m\n",
      "\u001b[1;32mC:\\ProgramData\\Anaconda3\\lib\\site-packages\\selenium\\webdriver\\remote\\webdriver.py\u001b[0m in \u001b[0;36mfind_element\u001b[1;34m(self, by, value)\u001b[0m\n\u001b[0;32m    855\u001b[0m             \u001b[0mvalue\u001b[0m \u001b[1;33m=\u001b[0m \u001b[1;34m'[name=\"%s\"]'\u001b[0m \u001b[1;33m%\u001b[0m \u001b[0mvalue\u001b[0m\u001b[1;33m\u001b[0m\u001b[1;33m\u001b[0m\u001b[0m\n\u001b[0;32m    856\u001b[0m \u001b[1;33m\u001b[0m\u001b[0m\n\u001b[1;32m--> 857\u001b[1;33m         return self.execute(Command.FIND_ELEMENT, {\n\u001b[0m\u001b[0;32m    858\u001b[0m             \u001b[1;34m'using'\u001b[0m\u001b[1;33m:\u001b[0m \u001b[0mby\u001b[0m\u001b[1;33m,\u001b[0m\u001b[1;33m\u001b[0m\u001b[1;33m\u001b[0m\u001b[0m\n\u001b[0;32m    859\u001b[0m             'value': value})['value']\n",
      "\u001b[1;32mC:\\ProgramData\\Anaconda3\\lib\\site-packages\\selenium\\webdriver\\remote\\webdriver.py\u001b[0m in \u001b[0;36mexecute\u001b[1;34m(self, driver_command, params)\u001b[0m\n\u001b[0;32m    433\u001b[0m         \u001b[0mresponse\u001b[0m \u001b[1;33m=\u001b[0m \u001b[0mself\u001b[0m\u001b[1;33m.\u001b[0m\u001b[0mcommand_executor\u001b[0m\u001b[1;33m.\u001b[0m\u001b[0mexecute\u001b[0m\u001b[1;33m(\u001b[0m\u001b[0mdriver_command\u001b[0m\u001b[1;33m,\u001b[0m \u001b[0mparams\u001b[0m\u001b[1;33m)\u001b[0m\u001b[1;33m\u001b[0m\u001b[1;33m\u001b[0m\u001b[0m\n\u001b[0;32m    434\u001b[0m         \u001b[1;32mif\u001b[0m \u001b[0mresponse\u001b[0m\u001b[1;33m:\u001b[0m\u001b[1;33m\u001b[0m\u001b[1;33m\u001b[0m\u001b[0m\n\u001b[1;32m--> 435\u001b[1;33m             \u001b[0mself\u001b[0m\u001b[1;33m.\u001b[0m\u001b[0merror_handler\u001b[0m\u001b[1;33m.\u001b[0m\u001b[0mcheck_response\u001b[0m\u001b[1;33m(\u001b[0m\u001b[0mresponse\u001b[0m\u001b[1;33m)\u001b[0m\u001b[1;33m\u001b[0m\u001b[1;33m\u001b[0m\u001b[0m\n\u001b[0m\u001b[0;32m    436\u001b[0m             response['value'] = self._unwrap_value(\n\u001b[0;32m    437\u001b[0m                 response.get('value', None))\n",
      "\u001b[1;32mC:\\ProgramData\\Anaconda3\\lib\\site-packages\\selenium\\webdriver\\remote\\errorhandler.py\u001b[0m in \u001b[0;36mcheck_response\u001b[1;34m(self, response)\u001b[0m\n\u001b[0;32m    245\u001b[0m                 \u001b[0malert_text\u001b[0m \u001b[1;33m=\u001b[0m \u001b[0mvalue\u001b[0m\u001b[1;33m[\u001b[0m\u001b[1;34m'alert'\u001b[0m\u001b[1;33m]\u001b[0m\u001b[1;33m.\u001b[0m\u001b[0mget\u001b[0m\u001b[1;33m(\u001b[0m\u001b[1;34m'text'\u001b[0m\u001b[1;33m)\u001b[0m\u001b[1;33m\u001b[0m\u001b[1;33m\u001b[0m\u001b[0m\n\u001b[0;32m    246\u001b[0m             \u001b[1;32mraise\u001b[0m \u001b[0mexception_class\u001b[0m\u001b[1;33m(\u001b[0m\u001b[0mmessage\u001b[0m\u001b[1;33m,\u001b[0m \u001b[0mscreen\u001b[0m\u001b[1;33m,\u001b[0m \u001b[0mstacktrace\u001b[0m\u001b[1;33m,\u001b[0m \u001b[0malert_text\u001b[0m\u001b[1;33m)\u001b[0m  \u001b[1;31m# type: ignore[call-arg]  # mypy is not smart enough here\u001b[0m\u001b[1;33m\u001b[0m\u001b[1;33m\u001b[0m\u001b[0m\n\u001b[1;32m--> 247\u001b[1;33m         \u001b[1;32mraise\u001b[0m \u001b[0mexception_class\u001b[0m\u001b[1;33m(\u001b[0m\u001b[0mmessage\u001b[0m\u001b[1;33m,\u001b[0m \u001b[0mscreen\u001b[0m\u001b[1;33m,\u001b[0m \u001b[0mstacktrace\u001b[0m\u001b[1;33m)\u001b[0m\u001b[1;33m\u001b[0m\u001b[1;33m\u001b[0m\u001b[0m\n\u001b[0m\u001b[0;32m    248\u001b[0m \u001b[1;33m\u001b[0m\u001b[0m\n\u001b[0;32m    249\u001b[0m     \u001b[1;32mdef\u001b[0m \u001b[0m_value_or_default\u001b[0m\u001b[1;33m(\u001b[0m\u001b[0mself\u001b[0m\u001b[1;33m,\u001b[0m \u001b[0mobj\u001b[0m\u001b[1;33m:\u001b[0m \u001b[0mMapping\u001b[0m\u001b[1;33m[\u001b[0m\u001b[0m_KT\u001b[0m\u001b[1;33m,\u001b[0m \u001b[0m_VT\u001b[0m\u001b[1;33m]\u001b[0m\u001b[1;33m,\u001b[0m \u001b[0mkey\u001b[0m\u001b[1;33m:\u001b[0m \u001b[0m_KT\u001b[0m\u001b[1;33m,\u001b[0m \u001b[0mdefault\u001b[0m\u001b[1;33m:\u001b[0m \u001b[0m_VT\u001b[0m\u001b[1;33m)\u001b[0m \u001b[1;33m->\u001b[0m \u001b[0m_VT\u001b[0m\u001b[1;33m:\u001b[0m\u001b[1;33m\u001b[0m\u001b[1;33m\u001b[0m\u001b[0m\n",
      "\u001b[1;31mNoSuchElementException\u001b[0m: Message: no such element: Unable to locate element: {\"method\":\"xpath\",\"selector\":\"//*[@id=\"appendLayer\"]/div[13]\"}\n  (Session info: chrome=104.0.5112.81)\nStacktrace:\nBacktrace:\n\tOrdinal0 [0x01005FD3+2187219]\n\tOrdinal0 [0x00F9E6D1+1763025]\n\tOrdinal0 [0x00EB3E78+802424]\n\tOrdinal0 [0x00EE1C10+990224]\n\tOrdinal0 [0x00EE1EAB+990891]\n\tOrdinal0 [0x00F0EC92+1174674]\n\tOrdinal0 [0x00EFCBD4+1100756]\n\tOrdinal0 [0x00F0CFC2+1167298]\n\tOrdinal0 [0x00EFC9A6+1100198]\n\tOrdinal0 [0x00ED6F80+946048]\n\tOrdinal0 [0x00ED7E76+949878]\n\tGetHandleVerifier [0x012A90C2+2721218]\n\tGetHandleVerifier [0x0129AAF0+2662384]\n\tGetHandleVerifier [0x0109137A+526458]\n\tGetHandleVerifier [0x01090416+522518]\n\tOrdinal0 [0x00FA4EAB+1789611]\n\tOrdinal0 [0x00FA97A8+1808296]\n\tOrdinal0 [0x00FA9895+1808533]\n\tOrdinal0 [0x00FB26C1+1844929]\n\tBaseThreadInitThunk [0x76B0FA29+25]\n\tRtlGetAppContainerNamedObjectPath [0x777F7A9E+286]\n\tRtlGetAppContainerNamedObjectPath [0x777F7A6E+238]\n"
     ]
    }
   ],
   "source": [
    "axis_degree_xpath = '//*[@id=\"appendLayer\"]/div[13]' # 수치축\n",
    "axis_degree_btn = driver.find_element(By.XPATH,axis_degree_xpath)\n",
    "axis_degree_btn.click()"
   ]
  },
  {
   "cell_type": "code",
   "execution_count": null,
   "id": "4096dc47",
   "metadata": {},
   "outputs": [],
   "source": [
    "_xpath = '//*[@id=\"appendLayer\"]/div[13]/div[1]' # 표두\n",
    "_btn = driver.find_element(By.XPATH,_xpath)\n",
    "_btn.click()"
   ]
  },
  {
   "cell_type": "code",
   "execution_count": null,
   "id": "acafa8a7",
   "metadata": {},
   "outputs": [],
   "source": [
    "_xpath = '//*[@id=\"appendLayer\"]/div[13]/div[2]' # 표측\n",
    "_btn = driver.find_element(By.XPATH,axis_xpath)\n",
    "_btn.click()"
   ]
  },
  {
   "cell_type": "code",
   "execution_count": 19,
   "id": "50639a08",
   "metadata": {},
   "outputs": [],
   "source": []
  },
  {
   "cell_type": "code",
   "execution_count": 21,
   "id": "67c4e883",
   "metadata": {},
   "outputs": [],
   "source": [
    "# result_xpath = '//*[@id=\"eosFrame\"]'\n",
    "excel_btn_xpath = '//*[@id=\"controlContainer\"]/div[1]/div/div[3]'\n",
    "excel_btn = driver.find_element(By.XPATH,excel_btn_xpath)\n",
    "excel_btn.click()\n",
    "time.sleep(10)"
   ]
  },
  {
   "cell_type": "code",
   "execution_count": null,
   "id": "8c7db89a",
   "metadata": {},
   "outputs": [],
   "source": [
    "from glob import glob"
   ]
  },
  {
   "cell_type": "code",
   "execution_count": null,
   "id": "005fc7cf",
   "metadata": {},
   "outputs": [],
   "source": [
    "f = glob('./tmp_data/Report*.xls')\n",
    "pd.read_excel(f[0])"
   ]
  },
  {
   "cell_type": "code",
   "execution_count": null,
   "id": "bebaaf91",
   "metadata": {},
   "outputs": [],
   "source": []
  }
 ],
 "metadata": {
  "kernelspec": {
   "display_name": "Python 3 (ipykernel)",
   "language": "python",
   "name": "python3"
  },
  "language_info": {
   "codemirror_mode": {
    "name": "ipython",
    "version": 3
   },
   "file_extension": ".py",
   "mimetype": "text/x-python",
   "name": "python",
   "nbconvert_exporter": "python",
   "pygments_lexer": "ipython3",
   "version": "3.9.7"
  }
 },
 "nbformat": 4,
 "nbformat_minor": 5
}
